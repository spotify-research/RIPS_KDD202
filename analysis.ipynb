{
 "cells": [
  {
   "cell_type": "code",
   "execution_count": null,
   "metadata": {
    "collapsed": false,
    "jupyter": {
     "outputs_hidden": false
    },
    "pycharm": {
     "name": "#%%\n"
    }
   },
   "outputs": [],
   "source": [
    "#\n",
    "# Copyright 2020 Spotify AB\n",
    "# Licensed under the Apache License, Version 2.0 (the \"License\");\n",
    "# you may not use this file except in compliance with the License.\n",
    "# You may obtain a copy of the License at\n",
    "#\n",
    "#     http://www.apache.org/licenses/LICENSE-2.0\n",
    "#\n",
    "# Unless required by applicable law or agreed to in writing, software\n",
    "# distributed under the License is distributed on an \"AS IS\" BASIS,\n",
    "# WITHOUT WARRANTIES OR CONDITIONS OF ANY KIND, either express or implied.\n",
    "# See the License for the specific language governing permissions and\n",
    "# limitations under the License.\n",
    "#\n",
    "\n",
    "import logging\n",
    "logger = logging.getLogger()\n",
    "logger.setLevel(logging.INFO)\n",
    "\n",
    "import numpy as np\n",
    "from collections import defaultdict \n",
    "import matplotlib.pylab as plt\n",
    "import matplotlib\n",
    "matplotlib.use('Agg')\n",
    "\n",
    "import json\n",
    "from collections import defaultdict\n",
    "from tensorflow.python.lib.io import file_io\n",
    "tnums = 10\n",
    "\n",
    "BASE_DIR = \"ENTER_BASE_OUTPUT_PATH\"\n",
    "\n",
    "def offline_estimates(base_path):\n",
    "    data = defaultdict(lambda : defaultdict(list))\n",
    "    for tnum in range(tnums):\n",
    "        json_str = file_io.read_file_to_string(\n",
    "        '{BASE_DIR}/{base}/trial-{tnum}-results-00000-of-00001.json'.format(\n",
    "            base=base_path, tnum=tnum))\n",
    "        res_json = json.loads(json_str)\n",
    "        for run, estimators in res_json.items():\n",
    "            for est_name, est in estimators.items():\n",
    "                data[run][est_name].append(est['est_mean'])\n",
    "    return data\n",
    "def online_estimates(base_path):\n",
    "    gt_data = defaultdict(list)\n",
    "    for tnum in range(tnums):\n",
    "        json_str = file_io.read_file_to_string(\n",
    "        '{BASE_DIR}/{base}/trial-{tnum}-onpolicy-00000-of-00001.json'.format(\n",
    "            base=base_path,tnum=tnum))\n",
    "        res_json = json.loads(json_str)\n",
    "        for run, means in res_json.items():\n",
    "            gt_data[run].append(means)\n",
    "    return gt_data\n",
    "\n",
    "def plot(data, gt_data, axs, i, cut_off_idx=10):\n",
    "\n",
    "    est_names = ['OnlineEstimator', 'DynamicRIPSEstimator', 'IIPSEstimator', \n",
    "                 #'PIPSEstimator', \n",
    "                 #'RIPSEstimator', \n",
    "                 'NormIPSEstimator']\n",
    "    for policy, results in sorted(data.items(), key=lambda x:x[0]):\n",
    "\n",
    "        pidx = int(policy.split('-')[0]) - 1\n",
    "        if policy == '1-ideal':\n",
    "            policy_name = 'optimal'\n",
    "        elif policy == '2-rand':\n",
    "            policy_name = 'random'\n",
    "        elif policy == '3-worst':\n",
    "            policy_name = 'anti-optimal'            \n",
    "        #axs[i, pidx].set_title(policy_name)\n",
    "        \n",
    "        # Add Online Estimator\n",
    "        est_vals = [np.asarray(gt_data[policy])]\n",
    "\n",
    "        # Add Offpolicy Estimators\n",
    "        for est_name in est_names:\n",
    "            if est_name == 'OnlineEstimator': continue\n",
    "            est = np.asarray(results[est_name])\n",
    "            est_vals.append(est[:,cut_off_idx])\n",
    "        boxargs = {'showmeans':True,\n",
    "                   'meanprops':dict(markerfacecolor='r', marker='s', markeredgecolor='r')}\n",
    "        axs[i, pidx].boxplot(est_vals,**boxargs)\n",
    "        display_names = []\n",
    "        for n in est_names:\n",
    "            if n == 'DynamicRIPSEstimator':\n",
    "                display_names.append('RIPS')\n",
    "            elif n == 'NormIPSEstimator':\n",
    "                display_names.append('Std. IPS')                \n",
    "            else:\n",
    "                display_names.append(n.replace('Estimator', ''))\n",
    "        plt.setp(axs, xticks=list(range(1, len(est_names) + 1)), xticklabels=display_names)\n",
    "        "
   ]
  },
  {
   "cell_type": "code",
   "execution_count": null,
   "metadata": {
    "collapsed": false,
    "jupyter": {
     "outputs_hidden": false
    },
    "pycharm": {
     "name": "#%%\n"
    }
   },
   "outputs": [],
   "source": [
    "def plot_matrix():\n",
    "    fig, axs = plt.subplots(3, 3, figsize=(15,10), \n",
    "                            #sharex='col', sharey='row',\n",
    "                            #gridspec_kw={'hspace': 0, 'wspace': 0}\n",
    "                           )\n",
    "\n",
    "    paths = [\n",
    "        'nTracks-10_nCtx-10_nLogs5K_LoggingPolicy-opt',\n",
    "        'nTracks-10_nCtx-10_nLogs5K_LoggingPolicy-rnd',\n",
    "        'nTracks-10_nCtx-10_nLogs5K_LoggingPolicy-antiopt'\n",
    "    ]\n",
    "    for i, BASE_PATH in enumerate(paths):\n",
    "        data = offline_estimates(BASE_PATH)\n",
    "        gt_data = online_estimates(BASE_PATH)\n",
    "        plot(data, gt_data, axs, i, cut_off_idx=3)\n",
    "\n",
    "\n",
    "    for ax in axs.flat:\n",
    "        ax.set(ylabel='average loss',\n",
    "              ylim=[2,10])  \n",
    "        ax.set(ylabel='average loss')         \n",
    "\n",
    "    names = ['optimal', 'random', 'anti-optimal']\n",
    "    #     for ax, row in zip(axs[:,0], names):\n",
    "    #         ax.set_ylabel(row, rotation=90, size='large')\n",
    "    for i, (ax, row) in enumerate(zip(axs[:,0], names)):\n",
    "        ax.annotate(row, xy=(0, 0.5), xytext=(-ax.yaxis.labelpad - 5, 0),\n",
    "                xycoords=ax.yaxis.label, textcoords='offset points',\n",
    "                size='large', ha='right', va='center')\n",
    "        if i == 1:\n",
    "            ax.annotate(\"Logging Policies\", xy=(-8, 0.5), \n",
    "                        xytext=(-ax.yaxis.labelpad - 5, 0),\n",
    "                        xycoords=ax.yaxis.label, \n",
    "                        textcoords='offset points', rotation='vertical',\n",
    "                        size='xx-large', ha='right', va='center')\n",
    "    for ax, col in zip(axs[0], names):\n",
    "        ax.set_title(col)\n",
    "    fig.suptitle('Target Policies',size='xx-large')\n",
    "    for ax in fig.get_axes():\n",
    "        ax.label_outer()  \n",
    "    #plt.tight_layout()\n",
    "    plt.savefig('./plot1.pdf', format='pdf')\n",
    "plot_matrix()"
   ]
  },
  {
   "cell_type": "code",
   "execution_count": null,
   "metadata": {
    "collapsed": false,
    "jupyter": {
     "outputs_hidden": false
    },
    "pycharm": {
     "name": "#%%\n"
    }
   },
   "outputs": [],
   "source": [
    "\n",
    "def plot_cutoffs(data, gt_data):\n",
    "    fig, axs = plt.subplots(1, 3, figsize=(10,3), \n",
    "                            #sharex='col', sharey='row',\n",
    "                            #gridspec_kw={'hspace': 0, 'wspace': 0}\n",
    "                           )\n",
    "    est_names = ['OnlineEstimator', 'DynamicRIPSEstimator', 'IIPSEstimator', \n",
    "                 #'PIPSEstimator', \n",
    "                 #'RIPSEstimator', \n",
    "                 'NormIPSEstimator']\n",
    "    for cut_off_idx, c in enumerate([1, 3, 5,\n",
    "                                     #10\n",
    "                                    ]):\n",
    "        policy = '3-worst'\n",
    "        results = data[policy]\n",
    "        #for policy, results in sorted(data.items(), key=lambda x:x[0]):\n",
    "\n",
    "        #pidx = int(policy.split('-')[0]) - 1\n",
    "        if policy == '1-ideal':\n",
    "            policy_name = 'anti-optimal'\n",
    "        elif policy == '2-rand':\n",
    "            policy_name = 'random'\n",
    "        elif policy == '3-worst':\n",
    "            policy_name = 'optimal'            \n",
    "        axs[cut_off_idx].set_title('Slate Size = {}'.format(c))\n",
    "\n",
    "        # Add Online Estimator\n",
    "        \n",
    "        est_vals = [np.asarray(gt_data[policy])[:, cut_off_idx]]\n",
    "\n",
    "        # Add Offpolicy Estimators\n",
    "        for est_name in est_names:\n",
    "            if est_name == 'OnlineEstimator': continue\n",
    "            est = np.asarray(results[est_name])\n",
    "            est_vals.append(est[:,cut_off_idx])\n",
    "        boxargs = {'showmeans':True,\n",
    "                   'meanprops':dict(markerfacecolor='r', marker='s', markeredgecolor='r')}\n",
    "        axs[cut_off_idx].boxplot(est_vals,**boxargs)\n",
    "        display_names = []\n",
    "        for n in est_names:\n",
    "            if n == 'DynamicRIPSEstimator':\n",
    "                display_names.append('RIPS')\n",
    "            elif n == 'NormIPSEstimator':\n",
    "                display_names.append('Std. IPS')                \n",
    "            else:\n",
    "                display_names.append(n.replace('Estimator', ''))        \n",
    "        plt.setp(axs, xticks=list(range(1, len(est_names) + 1)), xticklabels=display_names)\n",
    "\n",
    "    #plot(data, gt_data, axs, 1, cut_off_idx=3)\n",
    "    for ax in axs.flat:\n",
    "        ax.set(ylabel='average loss', ylim=[0,6])  \n",
    "        ax.set_ylabel(ylabel='average loss', fontsize=15)  \n",
    "#         for tick in ax.get_xticklabels():\n",
    "#             tick.set_rotation(90)\n",
    "    for ax in fig.get_axes():\n",
    "        ax.label_outer()\n",
    "    plt.tight_layout()\n",
    "    plt.savefig('./slate_size.pdf', format='pdf')"
   ]
  },
  {
   "cell_type": "code",
   "execution_count": null,
   "metadata": {
    "collapsed": false,
    "jupyter": {
     "outputs_hidden": false
    },
    "pycharm": {
     "name": "#%%\n"
    }
   },
   "outputs": [],
   "source": [
    "BASE_PATH = 'nTracks-10_nCtx-10_nLogs5K_LoggingPolicy-opt2'\n",
    "data = offline_estimates(BASE_PATH)\n",
    "gt_data = online_estimates(BASE_PATH)"
   ]
  },
  {
   "cell_type": "code",
   "execution_count": null,
   "metadata": {
    "collapsed": false,
    "jupyter": {
     "outputs_hidden": false
    },
    "pycharm": {
     "name": "#%%\n"
    }
   },
   "outputs": [],
   "source": [
    "plot_cutoffs(data, gt_data)"
   ]
  },
  {
   "cell_type": "code",
   "execution_count": null,
   "metadata": {
    "collapsed": false,
    "jupyter": {
     "outputs_hidden": false
    },
    "pycharm": {
     "name": "#%%\n"
    }
   },
   "outputs": [],
   "source": [
    "from collections import defaultdict\n",
    "from tensorflow.python.lib.io import file_io\n",
    "import pandas as pd\n",
    "import json\n",
    "\n",
    "def real_data_results():\n",
    "    userdata = defaultdict(dict)\n",
    "\n",
    "    json_str = file_io.read_file_to_string(\n",
    "    'gs://bandits4experimentation/neurips/test_userdata_0_0001/results-00000-of-00001.json')\n",
    "    res_json = json.loads(json_str)\n",
    "    for run, estimators in res_json.items():\n",
    "        for est_name, est in estimators.items():\n",
    "            userdata[run][est_name] = est\n",
    "    cut_offs = [1, 3, 5, 10]\n",
    "    table = defaultdict(list)\n",
    "    rd = lambda x: round(x, 3)\n",
    "    for idx, c in enumerate(cut_offs):\n",
    "        if c != 5: continue\n",
    "        for run_name in sorted(userdata.keys()):\n",
    "            data = userdata[run_name]\n",
    "            table['run'].append(run_name)\n",
    "            table['CutOff'].append(c)        \n",
    "\n",
    "            for est_name, rdata in data.items():\n",
    "                if 'OnPolicy' in est_name:\n",
    "                    table[est_name].append('{} ({})'.format(\n",
    "                        rd(rdata['est_mean'][c-1]), \n",
    "                        rd(1.96 * rdata['est_std'][c-1])))\n",
    "                elif 'IPS' in est_name:\n",
    "                    table[est_name].append('{} ({})'.format(\n",
    "                        rd(rdata['est_mean'][idx]), \n",
    "                        rd(1.96 * rdata['est_std'][idx])))\n",
    "                else:\n",
    "                    table[est_name].append('{} ({})'.format(\n",
    "                        rd(rdata['est_mean'][idx]), \n",
    "                        rd(1.96 * rdata['est_std'][idx])))\n",
    "    return pd.DataFrame(table)     \n",
    "real_data_results()"
   ]
  },
  {
   "cell_type": "code",
   "execution_count": null,
   "metadata": {
    "collapsed": false,
    "jupyter": {
     "outputs_hidden": false
    },
    "pycharm": {
     "name": "#%%\n"
    }
   },
   "outputs": [],
   "source": [
    "userdata = defaultdict(dict)\n",
    "json_str = file_io.read_file_to_string(\n",
    "'gs://bandits4experimentation/neurips/test_userdata_0_0005/results-00000-of-00001.json')\n",
    "res_json = json.loads(json_str)\n",
    "for run, estimators in res_json.items():\n",
    "    for est_name, est in estimators.items():\n",
    "        userdata[run][est_name] = est"
   ]
  },
  {
   "cell_type": "code",
   "execution_count": null,
   "metadata": {
    "collapsed": false,
    "jupyter": {
     "outputs_hidden": false
    },
    "pycharm": {
     "name": "#%%\n"
    }
   },
   "outputs": [],
   "source": [
    "run = 'w2v'\n",
    "for pos, ess in sorted(userdata[run]['DynamicRIPSEstimator']['data'].items()):\n",
    "    for idx, i in enumerate(ess):\n",
    "        print(pos, idx, \"ESS: {:>9}\".format(round(i['ess'], 4)),  \"  LB: {}\".format(i['lookback']))"
   ]
  },
  {
   "cell_type": "code",
   "execution_count": null,
   "metadata": {
    "collapsed": false,
    "jupyter": {
     "outputs_hidden": false
    },
    "pycharm": {
     "name": "#%%\n"
    }
   },
   "outputs": [],
   "source": [
    "def print_table():\n",
    "    paths = [\n",
    "        'nTracks-10_nCtx-10_nLogs5K_LoggingPolicy-opt',\n",
    "        'nTracks-10_nCtx-10_nLogs5K_LoggingPolicy-rnd',\n",
    "        'nTracks-10_nCtx-10_nLogs5K_LoggingPolicy-antiopt'\n",
    "    ]\n",
    "    cut_off_idx = 3\n",
    "    for i, BASE_PATH in enumerate(paths):\n",
    "        data = offline_estimates(BASE_PATH)\n",
    "        gt_data = online_estimates(BASE_PATH)\n",
    "        est_names = ['DynamicRIPSEstimator', 'IIPSEstimator', \n",
    "                     #'PIPSEstimator', \n",
    "                     #'RIPSEstimator', \n",
    "                     'NormIPSEstimator']\n",
    "        rmse = defaultdict(list)\n",
    "        for policy, results in sorted(data.items(), key=lambda x:x[0]):\n",
    "\n",
    "            pidx = int(policy.split('-')[0]) - 1\n",
    "            if policy == '1-ideal':\n",
    "                policy_name = 'optimal'\n",
    "            elif policy == '2-rand':\n",
    "                policy_name = 'random'\n",
    "            elif policy == '3-worst':\n",
    "                policy_name = 'anti-optimal'            \n",
    "            #axs[i, pidx].set_title(policy_name)\n",
    "\n",
    "            # Add Online Estimator\n",
    "            est_vals = []\n",
    "            online= np.asarray(gt_data[policy])\n",
    "            # Add Offpolicy Estimators\n",
    "            for est_name in est_names:\n",
    "                if est_name == 'OnlineEstimator': continue\n",
    "                est = np.asarray(results[est_name])\n",
    "                est_vals.append(np.mean(online - est[:,cut_off_idx]))\n",
    "                rmse[est_name].extend((online - est[:,cut_off_idx])**2)\n",
    "        print(rmse.keys())\n",
    "        print(np.around([np.sqrt(np.mean(v)) for k, v in rmse.items()], decimals=4))\n",
    "            \n",
    "\n",
    "        print()\n",
    "print_table()"
   ]
  },
  {
   "cell_type": "code",
   "execution_count": null,
   "metadata": {
    "collapsed": false,
    "jupyter": {
     "outputs_hidden": false
    },
    "pycharm": {
     "name": "#%%\n"
    }
   },
   "outputs": [],
   "source": []
  },
  {
   "cell_type": "code",
   "execution_count": 13,
   "metadata": {
    "ExecuteTime": {
     "end_time": "2019-10-15T01:52:41.702442Z",
     "start_time": "2019-10-15T01:52:41.671857Z"
    }
   },
   "outputs": [],
   "source": []
  },
  {
   "cell_type": "code",
   "execution_count": 44,
   "metadata": {
    "ExecuteTime": {
     "end_time": "2019-10-15T04:43:34.491132Z",
     "start_time": "2019-10-15T04:43:07.161199Z"
    }
   },
   "outputs": [
    {
     "data": {
      "image/png": "[encoded data removed]",
      "text/plain": [
       "<Figure size 1080x720 with 9 Axes>"
      ]
     },
     "metadata": {
      "needs_background": "light"
     },
     "output_type": "display_data"
    }
   ],
   "source": [
    "def plot_matrix():\n",
    "    fig, axs = plt.subplots(3, 3, figsize=(15,10), \n",
    "                            #sharex='col', sharey='row',\n",
    "                            #gridspec_kw={'hspace': 0, 'wspace': 0}\n",
    "                           )\n",
    "\n",
    "    paths = [\n",
    "        'nTracks-10_nCtx-10_nLogs5K_LoggingPolicy-opt',\n",
    "        'nTracks-10_nCtx-10_nLogs5K_LoggingPolicy-rnd',\n",
    "        'nTracks-10_nCtx-10_nLogs5K_LoggingPolicy-antiopt'\n",
    "    ]\n",
    "    for i, BASE_PATH in enumerate(paths):\n",
    "        data = offline_estimates(BASE_PATH)\n",
    "        gt_data = online_estimates(BASE_PATH)\n",
    "        plot(data, gt_data, axs, i, cut_off_idx=3)\n",
    "\n",
    "\n",
    "    for ax in axs.flat:\n",
    "        ax.set(ylabel='average loss',\n",
    "              ylim=[2,10])  \n",
    "        ax.set(ylabel='average loss')         \n",
    "\n",
    "    names = ['optimal', 'random', 'anti-optimal']\n",
    "    #     for ax, row in zip(axs[:,0], names):\n",
    "    #         ax.set_ylabel(row, rotation=90, size='large')\n",
    "    for i, (ax, row) in enumerate(zip(axs[:,0], names)):\n",
    "        ax.annotate(row, xy=(0, 0.5), xytext=(-ax.yaxis.labelpad - 5, 0),\n",
    "                xycoords=ax.yaxis.label, textcoords='offset points',\n",
    "                size='large', ha='right', va='center')\n",
    "        if i == 1:\n",
    "            ax.annotate(\"Logging Policies\", xy=(-8, 0.5), \n",
    "                        xytext=(-ax.yaxis.labelpad - 5, 0),\n",
    "                        xycoords=ax.yaxis.label, \n",
    "                        textcoords='offset points', rotation='vertical',\n",
    "                        size='xx-large', ha='right', va='center')\n",
    "    for ax, col in zip(axs[0], names):\n",
    "        ax.set_title(col)\n",
    "    fig.suptitle('Target Policies',size='xx-large')\n",
    "    for ax in fig.get_axes():\n",
    "        ax.label_outer()  \n",
    "    #plt.tight_layout()\n",
    "    plt.savefig('./plot1.pdf', format='pdf')\n",
    "plot_matrix()"
   ]
  },
  {
   "cell_type": "code",
   "execution_count": 37,
   "metadata": {
    "ExecuteTime": {
     "end_time": "2019-10-15T04:05:11.610398Z",
     "start_time": "2019-10-15T04:05:11.580539Z"
    }
   },
   "outputs": [],
   "source": [
    "\n",
    "def plot_cutoffs(data, gt_data):\n",
    "    fig, axs = plt.subplots(1, 3, figsize=(10,3), \n",
    "                            #sharex='col', sharey='row',\n",
    "                            #gridspec_kw={'hspace': 0, 'wspace': 0}\n",
    "                           )\n",
    "    est_names = ['OnlineEstimator', 'DynamicRIPSEstimator', 'IIPSEstimator', \n",
    "                 #'PIPSEstimator', \n",
    "                 #'RIPSEstimator', \n",
    "                 'NormIPSEstimator']\n",
    "    for cut_off_idx, c in enumerate([1, 3, 5,\n",
    "                                     #10\n",
    "                                    ]):\n",
    "        policy = '3-worst'\n",
    "        results = data[policy]\n",
    "        #for policy, results in sorted(data.items(), key=lambda x:x[0]):\n",
    "\n",
    "        #pidx = int(policy.split('-')[0]) - 1\n",
    "        if policy == '1-ideal':\n",
    "            policy_name = 'anti-optimal'\n",
    "        elif policy == '2-rand':\n",
    "            policy_name = 'random'\n",
    "        elif policy == '3-worst':\n",
    "            policy_name = 'optimal'            \n",
    "        axs[cut_off_idx].set_title('Slate Size = {}'.format(c))\n",
    "\n",
    "        # Add Online Estimator\n",
    "        \n",
    "        est_vals = [np.asarray(gt_data[policy])[:, cut_off_idx]]\n",
    "\n",
    "        # Add Offpolicy Estimators\n",
    "        for est_name in est_names:\n",
    "            if est_name == 'OnlineEstimator': continue\n",
    "            est = np.asarray(results[est_name])\n",
    "            est_vals.append(est[:,cut_off_idx])\n",
    "        boxargs = {'showmeans':True,\n",
    "                   'meanprops':dict(markerfacecolor='r', marker='s', markeredgecolor='r')}\n",
    "        axs[cut_off_idx].boxplot(est_vals,**boxargs)\n",
    "        display_names = []\n",
    "        for n in est_names:\n",
    "            if n == 'DynamicRIPSEstimator':\n",
    "                display_names.append('RIPS')\n",
    "            elif n == 'NormIPSEstimator':\n",
    "                display_names.append('Std. IPS')                \n",
    "            else:\n",
    "                display_names.append(n.replace('Estimator', ''))        \n",
    "        plt.setp(axs, xticks=list(range(1, len(est_names) + 1)), xticklabels=display_names)\n",
    "\n",
    "    #plot(data, gt_data, axs, 1, cut_off_idx=3)\n",
    "    for ax in axs.flat:\n",
    "        ax.set(ylabel='average loss', ylim=[0,6])  \n",
    "        ax.set_ylabel(ylabel='average loss', fontsize=15)  \n",
    "#         for tick in ax.get_xticklabels():\n",
    "#             tick.set_rotation(90)\n",
    "    for ax in fig.get_axes():\n",
    "        ax.label_outer()\n",
    "    plt.tight_layout()\n",
    "    plt.savefig('./slate_size.pdf', format='pdf')"
   ]
  },
  {
   "cell_type": "code",
   "execution_count": 33,
   "metadata": {
    "ExecuteTime": {
     "end_time": "2019-10-15T04:03:00.131134Z",
     "start_time": "2019-10-15T04:02:50.420652Z"
    }
   },
   "outputs": [],
   "source": [
    "BASE_PATH = 'nTracks-10_nCtx-10_nLogs5K_LoggingPolicy-opt2'\n",
    "data = offline_estimates(BASE_PATH)\n",
    "gt_data = online_estimates(BASE_PATH)"
   ]
  },
  {
   "cell_type": "code",
   "execution_count": 38,
   "metadata": {
    "ExecuteTime": {
     "end_time": "2019-10-15T04:05:14.828408Z",
     "start_time": "2019-10-15T04:05:14.172658Z"
    }
   },
   "outputs": [
    {
     "data": {
      "image/png": "[encoded data removed]",
      "text/plain": [
       "<Figure size 720x216 with 3 Axes>"
      ]
     },
     "metadata": {
      "needs_background": "light"
     },
     "output_type": "display_data"
    }
   ],
   "source": [
    "plot_cutoffs(data, gt_data)"
   ]
  },
  {
   "cell_type": "code",
   "execution_count": 312,
   "metadata": {
    "ExecuteTime": {
     "end_time": "2019-05-23T15:21:09.423259Z",
     "start_time": "2019-05-23T15:21:08.473869Z"
    }
   },
   "outputs": [
    {
     "data": {
      "text/html": [
       "<div>\n",
       "<style scoped>\n",
       "    .dataframe tbody tr th:only-of-type {\n",
       "        vertical-align: middle;\n",
       "    }\n",
       "\n",
       "    .dataframe tbody tr th {\n",
       "        vertical-align: top;\n",
       "    }\n",
       "\n",
       "    .dataframe thead th {\n",
       "        text-align: right;\n",
       "    }\n",
       "</style>\n",
       "<table border=\"1\" class=\"dataframe\">\n",
       "  <thead>\n",
       "    <tr style=\"text-align: right;\">\n",
       "      <th></th>\n",
       "      <th>CutOff</th>\n",
       "      <th>DynamicRIPSEstimator</th>\n",
       "      <th>IIPSEstimator</th>\n",
       "      <th>NormIPSEstimator</th>\n",
       "      <th>PIPSEstimator</th>\n",
       "      <th>RIPSEstimator</th>\n",
       "      <th>run</th>\n",
       "    </tr>\n",
       "  </thead>\n",
       "  <tbody>\n",
       "    <tr>\n",
       "      <th>0</th>\n",
       "      <td>5</td>\n",
       "      <td>2.397 (0.916)</td>\n",
       "      <td>2.384 (0.153)</td>\n",
       "      <td>3.754 (4.249)</td>\n",
       "      <td>2.397 (0.916)</td>\n",
       "      <td>3.317 (2.369)</td>\n",
       "      <td>popularity</td>\n",
       "    </tr>\n",
       "    <tr>\n",
       "      <th>1</th>\n",
       "      <td>5</td>\n",
       "      <td>2.219 (0.023)</td>\n",
       "      <td>2.227 (0.023)</td>\n",
       "      <td>2.231 (0.024)</td>\n",
       "      <td>2.222 (0.023)</td>\n",
       "      <td>2.219 (0.023)</td>\n",
       "      <td>random</td>\n",
       "    </tr>\n",
       "    <tr>\n",
       "      <th>2</th>\n",
       "      <td>5</td>\n",
       "      <td>1.998 (0.96)</td>\n",
       "      <td>2.072 (0.128)</td>\n",
       "      <td>2.161 (2.02)</td>\n",
       "      <td>1.998 (0.96)</td>\n",
       "      <td>2.236 (1.521)</td>\n",
       "      <td>w2v</td>\n",
       "    </tr>\n",
       "  </tbody>\n",
       "</table>\n",
       "</div>"
      ],
      "text/plain": [
       "   CutOff DynamicRIPSEstimator  IIPSEstimator NormIPSEstimator  PIPSEstimator  \\\n",
       "0       5        2.397 (0.916)  2.384 (0.153)    3.754 (4.249)  2.397 (0.916)   \n",
       "1       5        2.219 (0.023)  2.227 (0.023)    2.231 (0.024)  2.222 (0.023)   \n",
       "2       5         1.998 (0.96)  2.072 (0.128)     2.161 (2.02)   1.998 (0.96)   \n",
       "\n",
       "   RIPSEstimator         run  \n",
       "0  3.317 (2.369)  popularity  \n",
       "1  2.219 (0.023)      random  \n",
       "2  2.236 (1.521)         w2v  "
      ]
     },
     "execution_count": 312,
     "metadata": {},
     "output_type": "execute_result"
    }
   ],
   "source": [
    "from collections import defaultdict\n",
    "from tensorflow.python.lib.io import file_io\n",
    "import pandas as pd\n",
    "import json\n",
    "\n",
    "def real_data_results():\n",
    "    userdata = defaultdict(dict)\n",
    "\n",
    "    json_str = file_io.read_file_to_string(\n",
    "    'gs://bandits4experimentation/neurips/test_userdata_0_0001/results-00000-of-00001.json')\n",
    "    res_json = json.loads(json_str)\n",
    "    for run, estimators in res_json.items():\n",
    "        for est_name, est in estimators.items():\n",
    "            userdata[run][est_name] = est\n",
    "    cut_offs = [1, 3, 5, 10]\n",
    "    table = defaultdict(list)\n",
    "    rd = lambda x: round(x, 3)\n",
    "    for idx, c in enumerate(cut_offs):\n",
    "        if c != 5: continue\n",
    "        for run_name in sorted(userdata.keys()):\n",
    "            data = userdata[run_name]\n",
    "            table['run'].append(run_name)\n",
    "            table['CutOff'].append(c)        \n",
    "\n",
    "            for est_name, rdata in data.items():\n",
    "                if 'OnPolicy' in est_name:\n",
    "                    table[est_name].append('{} ({})'.format(\n",
    "                        rd(rdata['est_mean'][c-1]), \n",
    "                        rd(1.96 * rdata['est_std'][c-1])))\n",
    "                elif 'IPS' in est_name:\n",
    "                    table[est_name].append('{} ({})'.format(\n",
    "                        rd(rdata['est_mean'][idx]), \n",
    "                        rd(1.96 * rdata['est_std'][idx])))\n",
    "                else:\n",
    "                    table[est_name].append('{} ({})'.format(\n",
    "                        rd(rdata['est_mean'][idx]), \n",
    "                        rd(1.96 * rdata['est_std'][idx])))\n",
    "    return pd.DataFrame(table)     \n",
    "real_data_results()"
   ]
  },
  {
   "cell_type": "code",
   "execution_count": 315,
   "metadata": {
    "ExecuteTime": {
     "end_time": "2019-05-23T15:22:15.862689Z",
     "start_time": "2019-05-23T15:22:15.569206Z"
    }
   },
   "outputs": [],
   "source": [
    "userdata = defaultdict(dict)\n",
    "json_str = file_io.read_file_to_string(\n",
    "'gs://bandits4experimentation/neurips/test_userdata_0_0005/results-00000-of-00001.json')\n",
    "res_json = json.loads(json_str)\n",
    "for run, estimators in res_json.items():\n",
    "    for est_name, est in estimators.items():\n",
    "        userdata[run][est_name] = est"
   ]
  },
  {
   "cell_type": "code",
   "execution_count": 316,
   "metadata": {
    "ExecuteTime": {
     "end_time": "2019-05-23T15:22:16.059279Z",
     "start_time": "2019-05-23T15:22:16.034070Z"
    }
   },
   "outputs": [
    {
     "name": "stdout",
     "output_type": "stream",
     "text": [
      "0 0 ESS:  887.9273   LB: 0\n",
      "1 0 ESS:   623.022   LB: 0\n",
      "1 1 ESS:   28.8754   LB: 1\n",
      "2 0 ESS:  587.5027   LB: 0\n",
      "2 1 ESS:   15.7873   LB: 1\n",
      "3 0 ESS:  528.1784   LB: 0\n",
      "3 1 ESS:   12.4945   LB: 1\n",
      "4 0 ESS:  534.7696   LB: 0\n",
      "4 1 ESS:    17.207   LB: 1\n",
      "4 2 ESS:    1.2346   LB: 2\n",
      "5 0 ESS:  489.2904   LB: 0\n",
      "5 1 ESS:   16.0281   LB: 1\n",
      "6 0 ESS:  545.5853   LB: 0\n",
      "6 1 ESS:    2.9598   LB: 1\n",
      "7 0 ESS:  538.4191   LB: 0\n",
      "7 1 ESS:   15.6356   LB: 1\n",
      "8 0 ESS:  480.0886   LB: 0\n",
      "8 1 ESS:   16.9344   LB: 1\n",
      "8 2 ESS:   35.7203   LB: 2\n",
      "9 0 ESS:  478.8246   LB: 0\n",
      "9 1 ESS:    6.6585   LB: 1\n"
     ]
    }
   ],
   "source": [
    "run = 'w2v'\n",
    "for pos, ess in sorted(userdata[run]['DynamicRIPSEstimator']['data'].items()):\n",
    "    for idx, i in enumerate(ess):\n",
    "        print(pos, idx, \"ESS: {:>9}\".format(round(i['ess'], 4)),  \"  LB: {}\".format(i['lookback']))"
   ]
  },
  {
   "cell_type": "code",
   "execution_count": 31,
   "metadata": {
    "ExecuteTime": {
     "end_time": "2019-10-15T03:50:18.891713Z",
     "start_time": "2019-10-15T03:49:52.190372Z"
    }
   },
   "outputs": [
    {
     "name": "stdout",
     "output_type": "stream",
     "text": [
      "dict_keys(['IIPSEstimator', 'NormIPSEstimator', 'DynamicRIPSEstimator'])\n",
      "[0.9858 1.379  0.663 ]\n",
      "\n",
      "dict_keys(['IIPSEstimator', 'NormIPSEstimator', 'DynamicRIPSEstimator'])\n",
      "[1.3169 1.7506 0.629 ]\n",
      "\n",
      "dict_keys(['IIPSEstimator', 'NormIPSEstimator', 'DynamicRIPSEstimator'])\n",
      "[2.5526 2.9713 2.2285]\n",
      "\n"
     ]
    }
   ],
   "source": [
    "def print_table():\n",
    "    paths = [\n",
    "        'nTracks-10_nCtx-10_nLogs5K_LoggingPolicy-opt',\n",
    "        'nTracks-10_nCtx-10_nLogs5K_LoggingPolicy-rnd',\n",
    "        'nTracks-10_nCtx-10_nLogs5K_LoggingPolicy-antiopt'\n",
    "    ]\n",
    "    cut_off_idx = 3\n",
    "    for i, BASE_PATH in enumerate(paths):\n",
    "        data = offline_estimates(BASE_PATH)\n",
    "        gt_data = online_estimates(BASE_PATH)\n",
    "        est_names = ['DynamicRIPSEstimator', 'IIPSEstimator', \n",
    "                     #'PIPSEstimator', \n",
    "                     #'RIPSEstimator', \n",
    "                     'NormIPSEstimator']\n",
    "        rmse = defaultdict(list)\n",
    "        for policy, results in sorted(data.items(), key=lambda x:x[0]):\n",
    "\n",
    "            pidx = int(policy.split('-')[0]) - 1\n",
    "            if policy == '1-ideal':\n",
    "                policy_name = 'optimal'\n",
    "            elif policy == '2-rand':\n",
    "                policy_name = 'random'\n",
    "            elif policy == '3-worst':\n",
    "                policy_name = 'anti-optimal'            \n",
    "            #axs[i, pidx].set_title(policy_name)\n",
    "\n",
    "            # Add Online Estimator\n",
    "            est_vals = []\n",
    "            online= np.asarray(gt_data[policy])\n",
    "            # Add Offpolicy Estimators\n",
    "            for est_name in est_names:\n",
    "                if est_name == 'OnlineEstimator': continue\n",
    "                est = np.asarray(results[est_name])\n",
    "                est_vals.append(np.mean(online - est[:,cut_off_idx]))\n",
    "                rmse[est_name].extend((online - est[:,cut_off_idx])**2)\n",
    "        print(rmse.keys())\n",
    "        print(np.around([np.sqrt(np.mean(v)) for k, v in rmse.items()], decimals=4))\n",
    "            \n",
    "\n",
    "        print()\n",
    "print_table()"
   ]
  },
  {
   "cell_type": "code",
   "execution_count": null,
   "metadata": {},
   "outputs": [],
   "source": []
  }
 ],
 "metadata": {
  "kernelspec": {
   "display_name": "Python 3",
   "language": "python",
   "name": "python3"
  },
  "language_info": {
   "codemirror_mode": {
    "name": "ipython",
    "version": 3
   },
   "file_extension": ".py",
   "mimetype": "text/x-python",
   "name": "python",
   "nbconvert_exporter": "python",
   "pygments_lexer": "ipython3",
   "version": "3.7.6"
  },
  "latex_envs": {
   "LaTeX_envs_menu_present": true,
   "autocomplete": true,
   "bibliofile": "biblio.bib",
   "cite_by": "apalike",
   "current_citInitial": 1,
   "eqLabelWithNumbers": true,
   "eqNumInitial": 1,
   "hotkeys": {
    "equation": "Ctrl-E",
    "itemize": "Ctrl-I"
   },
   "labels_anchors": false,
   "latex_user_defs": false,
   "report_style_numbering": false,
   "user_envs_cfg": false
  },
  "toc": {
   "nav_menu": {},
   "number_sections": true,
   "sideBar": true,
   "skip_h1_title": false,
   "toc_cell": false,
   "toc_position": {},
   "toc_section_display": "block",
   "toc_window_display": false
  }
 },
 "nbformat": 4,
 "nbformat_minor": 4
}
